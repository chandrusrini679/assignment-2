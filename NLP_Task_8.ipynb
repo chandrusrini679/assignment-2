{
  "nbformat": 4,
  "nbformat_minor": 0,
  "metadata": {
    "colab": {
      "provenance": [],
      "authorship_tag": "ABX9TyN/O7DXfbpBEqjEPatjKxCD",
      "include_colab_link": true
    },
    "kernelspec": {
      "name": "python3",
      "display_name": "Python 3"
    },
    "language_info": {
      "name": "python"
    }
  },
  "cells": [
    {
      "cell_type": "markdown",
      "metadata": {
        "id": "view-in-github",
        "colab_type": "text"
      },
      "source": [
        "<a href=\"https://colab.research.google.com/github/chandrusrini679/assignment-2/blob/main/NLP_Task_8.ipynb\" target=\"_parent\"><img src=\"https://colab.research.google.com/assets/colab-badge.svg\" alt=\"Open In Colab\"/></a>"
      ]
    },
    {
      "cell_type": "code",
      "execution_count": 1,
      "metadata": {
        "id": "qApjA3ydMJ4H",
        "colab": {
          "base_uri": "https://localhost:8080/"
        },
        "outputId": "104f379c-9326-4efb-c02e-3bd3719e5333"
      },
      "outputs": [
        {
          "output_type": "stream",
          "name": "stderr",
          "text": [
            "[nltk_data] Downloading package punkt to /root/nltk_data...\n",
            "[nltk_data]   Unzipping tokenizers/punkt.zip.\n",
            "[nltk_data] Downloading package wordnet to /root/nltk_data...\n"
          ]
        },
        {
          "output_type": "execute_result",
          "data": {
            "text/plain": [
              "True"
            ]
          },
          "metadata": {},
          "execution_count": 1
        }
      ],
      "source": [
        "import pandas as pd\n",
        "import numpy as np\n",
        "from pandas import Series, DataFrame\n",
        "import matplotlib.pyplot as plt\n",
        "import seaborn as sns\n",
        "%matplotlib inline\n",
        "\n",
        "import re\n",
        "import string\n",
        "import nltk\n",
        "from nltk.corpus import stopwords\n",
        "nltk.download('punkt')\n",
        "nltk.download('wordnet')"
      ]
    },
    {
      "cell_type": "code",
      "source": [
        "Eng_df=pd.read_csv('/content/English.csv') \n",
        "Eng_df"
      ],
      "metadata": {
        "colab": {
          "base_uri": "https://localhost:8080/",
          "height": 423
        },
        "id": "4ulWwodaNIIY",
        "outputId": "6c46eb19-6d09-47f4-bee9-365fd355fbef"
      },
      "execution_count": 2,
      "outputs": [
        {
          "output_type": "execute_result",
          "data": {
            "text/plain": [
              "                                  English words/sentences\n",
              "0                                                     Hi.\n",
              "1                                                    Run!\n",
              "2                                                    Run!\n",
              "3                                                    Who?\n",
              "4                                                    Wow!\n",
              "...                                                   ...\n",
              "175616  Top-down economics never works, said Obama. \"T...\n",
              "175617  A carbon footprint is the amount of carbon dio...\n",
              "175618  Death is something that we're often discourage...\n",
              "175619  Since there are usually multiple websites on a...\n",
              "175620  If someone who doesn't know your background sa...\n",
              "\n",
              "[175621 rows x 1 columns]"
            ],
            "text/html": [
              "\n",
              "  <div id=\"df-e9b38e75-6042-4b5b-b918-6ce7f93028f1\">\n",
              "    <div class=\"colab-df-container\">\n",
              "      <div>\n",
              "<style scoped>\n",
              "    .dataframe tbody tr th:only-of-type {\n",
              "        vertical-align: middle;\n",
              "    }\n",
              "\n",
              "    .dataframe tbody tr th {\n",
              "        vertical-align: top;\n",
              "    }\n",
              "\n",
              "    .dataframe thead th {\n",
              "        text-align: right;\n",
              "    }\n",
              "</style>\n",
              "<table border=\"1\" class=\"dataframe\">\n",
              "  <thead>\n",
              "    <tr style=\"text-align: right;\">\n",
              "      <th></th>\n",
              "      <th>English words/sentences</th>\n",
              "    </tr>\n",
              "  </thead>\n",
              "  <tbody>\n",
              "    <tr>\n",
              "      <th>0</th>\n",
              "      <td>Hi.</td>\n",
              "    </tr>\n",
              "    <tr>\n",
              "      <th>1</th>\n",
              "      <td>Run!</td>\n",
              "    </tr>\n",
              "    <tr>\n",
              "      <th>2</th>\n",
              "      <td>Run!</td>\n",
              "    </tr>\n",
              "    <tr>\n",
              "      <th>3</th>\n",
              "      <td>Who?</td>\n",
              "    </tr>\n",
              "    <tr>\n",
              "      <th>4</th>\n",
              "      <td>Wow!</td>\n",
              "    </tr>\n",
              "    <tr>\n",
              "      <th>...</th>\n",
              "      <td>...</td>\n",
              "    </tr>\n",
              "    <tr>\n",
              "      <th>175616</th>\n",
              "      <td>Top-down economics never works, said Obama. \"T...</td>\n",
              "    </tr>\n",
              "    <tr>\n",
              "      <th>175617</th>\n",
              "      <td>A carbon footprint is the amount of carbon dio...</td>\n",
              "    </tr>\n",
              "    <tr>\n",
              "      <th>175618</th>\n",
              "      <td>Death is something that we're often discourage...</td>\n",
              "    </tr>\n",
              "    <tr>\n",
              "      <th>175619</th>\n",
              "      <td>Since there are usually multiple websites on a...</td>\n",
              "    </tr>\n",
              "    <tr>\n",
              "      <th>175620</th>\n",
              "      <td>If someone who doesn't know your background sa...</td>\n",
              "    </tr>\n",
              "  </tbody>\n",
              "</table>\n",
              "<p>175621 rows × 1 columns</p>\n",
              "</div>\n",
              "      <button class=\"colab-df-convert\" onclick=\"convertToInteractive('df-e9b38e75-6042-4b5b-b918-6ce7f93028f1')\"\n",
              "              title=\"Convert this dataframe to an interactive table.\"\n",
              "              style=\"display:none;\">\n",
              "        \n",
              "  <svg xmlns=\"http://www.w3.org/2000/svg\" height=\"24px\"viewBox=\"0 0 24 24\"\n",
              "       width=\"24px\">\n",
              "    <path d=\"M0 0h24v24H0V0z\" fill=\"none\"/>\n",
              "    <path d=\"M18.56 5.44l.94 2.06.94-2.06 2.06-.94-2.06-.94-.94-2.06-.94 2.06-2.06.94zm-11 1L8.5 8.5l.94-2.06 2.06-.94-2.06-.94L8.5 2.5l-.94 2.06-2.06.94zm10 10l.94 2.06.94-2.06 2.06-.94-2.06-.94-.94-2.06-.94 2.06-2.06.94z\"/><path d=\"M17.41 7.96l-1.37-1.37c-.4-.4-.92-.59-1.43-.59-.52 0-1.04.2-1.43.59L10.3 9.45l-7.72 7.72c-.78.78-.78 2.05 0 2.83L4 21.41c.39.39.9.59 1.41.59.51 0 1.02-.2 1.41-.59l7.78-7.78 2.81-2.81c.8-.78.8-2.07 0-2.86zM5.41 20L4 18.59l7.72-7.72 1.47 1.35L5.41 20z\"/>\n",
              "  </svg>\n",
              "      </button>\n",
              "      \n",
              "  <style>\n",
              "    .colab-df-container {\n",
              "      display:flex;\n",
              "      flex-wrap:wrap;\n",
              "      gap: 12px;\n",
              "    }\n",
              "\n",
              "    .colab-df-convert {\n",
              "      background-color: #E8F0FE;\n",
              "      border: none;\n",
              "      border-radius: 50%;\n",
              "      cursor: pointer;\n",
              "      display: none;\n",
              "      fill: #1967D2;\n",
              "      height: 32px;\n",
              "      padding: 0 0 0 0;\n",
              "      width: 32px;\n",
              "    }\n",
              "\n",
              "    .colab-df-convert:hover {\n",
              "      background-color: #E2EBFA;\n",
              "      box-shadow: 0px 1px 2px rgba(60, 64, 67, 0.3), 0px 1px 3px 1px rgba(60, 64, 67, 0.15);\n",
              "      fill: #174EA6;\n",
              "    }\n",
              "\n",
              "    [theme=dark] .colab-df-convert {\n",
              "      background-color: #3B4455;\n",
              "      fill: #D2E3FC;\n",
              "    }\n",
              "\n",
              "    [theme=dark] .colab-df-convert:hover {\n",
              "      background-color: #434B5C;\n",
              "      box-shadow: 0px 1px 3px 1px rgba(0, 0, 0, 0.15);\n",
              "      filter: drop-shadow(0px 1px 2px rgba(0, 0, 0, 0.3));\n",
              "      fill: #FFFFFF;\n",
              "    }\n",
              "  </style>\n",
              "\n",
              "      <script>\n",
              "        const buttonEl =\n",
              "          document.querySelector('#df-e9b38e75-6042-4b5b-b918-6ce7f93028f1 button.colab-df-convert');\n",
              "        buttonEl.style.display =\n",
              "          google.colab.kernel.accessAllowed ? 'block' : 'none';\n",
              "\n",
              "        async function convertToInteractive(key) {\n",
              "          const element = document.querySelector('#df-e9b38e75-6042-4b5b-b918-6ce7f93028f1');\n",
              "          const dataTable =\n",
              "            await google.colab.kernel.invokeFunction('convertToInteractive',\n",
              "                                                     [key], {});\n",
              "          if (!dataTable) return;\n",
              "\n",
              "          const docLinkHtml = 'Like what you see? Visit the ' +\n",
              "            '<a target=\"_blank\" href=https://colab.research.google.com/notebooks/data_table.ipynb>data table notebook</a>'\n",
              "            + ' to learn more about interactive tables.';\n",
              "          element.innerHTML = '';\n",
              "          dataTable['output_type'] = 'display_data';\n",
              "          await google.colab.output.renderOutput(dataTable, element);\n",
              "          const docLink = document.createElement('div');\n",
              "          docLink.innerHTML = docLinkHtml;\n",
              "          element.appendChild(docLink);\n",
              "        }\n",
              "      </script>\n",
              "    </div>\n",
              "  </div>\n",
              "  "
            ]
          },
          "metadata": {},
          "execution_count": 2
        }
      ]
    },
    {
      "cell_type": "code",
      "source": [
        "Eng_df.head()"
      ],
      "metadata": {
        "colab": {
          "base_uri": "https://localhost:8080/",
          "height": 206
        },
        "id": "OSGxy-6DNw3f",
        "outputId": "c90f1a1a-4866-4cec-d14f-6a248aea0191"
      },
      "execution_count": 3,
      "outputs": [
        {
          "output_type": "execute_result",
          "data": {
            "text/plain": [
              "  English words/sentences\n",
              "0                     Hi.\n",
              "1                    Run!\n",
              "2                    Run!\n",
              "3                    Who?\n",
              "4                    Wow!"
            ],
            "text/html": [
              "\n",
              "  <div id=\"df-7b37642b-2f76-4f13-82d5-d6eb5fe9d6bf\">\n",
              "    <div class=\"colab-df-container\">\n",
              "      <div>\n",
              "<style scoped>\n",
              "    .dataframe tbody tr th:only-of-type {\n",
              "        vertical-align: middle;\n",
              "    }\n",
              "\n",
              "    .dataframe tbody tr th {\n",
              "        vertical-align: top;\n",
              "    }\n",
              "\n",
              "    .dataframe thead th {\n",
              "        text-align: right;\n",
              "    }\n",
              "</style>\n",
              "<table border=\"1\" class=\"dataframe\">\n",
              "  <thead>\n",
              "    <tr style=\"text-align: right;\">\n",
              "      <th></th>\n",
              "      <th>English words/sentences</th>\n",
              "    </tr>\n",
              "  </thead>\n",
              "  <tbody>\n",
              "    <tr>\n",
              "      <th>0</th>\n",
              "      <td>Hi.</td>\n",
              "    </tr>\n",
              "    <tr>\n",
              "      <th>1</th>\n",
              "      <td>Run!</td>\n",
              "    </tr>\n",
              "    <tr>\n",
              "      <th>2</th>\n",
              "      <td>Run!</td>\n",
              "    </tr>\n",
              "    <tr>\n",
              "      <th>3</th>\n",
              "      <td>Who?</td>\n",
              "    </tr>\n",
              "    <tr>\n",
              "      <th>4</th>\n",
              "      <td>Wow!</td>\n",
              "    </tr>\n",
              "  </tbody>\n",
              "</table>\n",
              "</div>\n",
              "      <button class=\"colab-df-convert\" onclick=\"convertToInteractive('df-7b37642b-2f76-4f13-82d5-d6eb5fe9d6bf')\"\n",
              "              title=\"Convert this dataframe to an interactive table.\"\n",
              "              style=\"display:none;\">\n",
              "        \n",
              "  <svg xmlns=\"http://www.w3.org/2000/svg\" height=\"24px\"viewBox=\"0 0 24 24\"\n",
              "       width=\"24px\">\n",
              "    <path d=\"M0 0h24v24H0V0z\" fill=\"none\"/>\n",
              "    <path d=\"M18.56 5.44l.94 2.06.94-2.06 2.06-.94-2.06-.94-.94-2.06-.94 2.06-2.06.94zm-11 1L8.5 8.5l.94-2.06 2.06-.94-2.06-.94L8.5 2.5l-.94 2.06-2.06.94zm10 10l.94 2.06.94-2.06 2.06-.94-2.06-.94-.94-2.06-.94 2.06-2.06.94z\"/><path d=\"M17.41 7.96l-1.37-1.37c-.4-.4-.92-.59-1.43-.59-.52 0-1.04.2-1.43.59L10.3 9.45l-7.72 7.72c-.78.78-.78 2.05 0 2.83L4 21.41c.39.39.9.59 1.41.59.51 0 1.02-.2 1.41-.59l7.78-7.78 2.81-2.81c.8-.78.8-2.07 0-2.86zM5.41 20L4 18.59l7.72-7.72 1.47 1.35L5.41 20z\"/>\n",
              "  </svg>\n",
              "      </button>\n",
              "      \n",
              "  <style>\n",
              "    .colab-df-container {\n",
              "      display:flex;\n",
              "      flex-wrap:wrap;\n",
              "      gap: 12px;\n",
              "    }\n",
              "\n",
              "    .colab-df-convert {\n",
              "      background-color: #E8F0FE;\n",
              "      border: none;\n",
              "      border-radius: 50%;\n",
              "      cursor: pointer;\n",
              "      display: none;\n",
              "      fill: #1967D2;\n",
              "      height: 32px;\n",
              "      padding: 0 0 0 0;\n",
              "      width: 32px;\n",
              "    }\n",
              "\n",
              "    .colab-df-convert:hover {\n",
              "      background-color: #E2EBFA;\n",
              "      box-shadow: 0px 1px 2px rgba(60, 64, 67, 0.3), 0px 1px 3px 1px rgba(60, 64, 67, 0.15);\n",
              "      fill: #174EA6;\n",
              "    }\n",
              "\n",
              "    [theme=dark] .colab-df-convert {\n",
              "      background-color: #3B4455;\n",
              "      fill: #D2E3FC;\n",
              "    }\n",
              "\n",
              "    [theme=dark] .colab-df-convert:hover {\n",
              "      background-color: #434B5C;\n",
              "      box-shadow: 0px 1px 3px 1px rgba(0, 0, 0, 0.15);\n",
              "      filter: drop-shadow(0px 1px 2px rgba(0, 0, 0, 0.3));\n",
              "      fill: #FFFFFF;\n",
              "    }\n",
              "  </style>\n",
              "\n",
              "      <script>\n",
              "        const buttonEl =\n",
              "          document.querySelector('#df-7b37642b-2f76-4f13-82d5-d6eb5fe9d6bf button.colab-df-convert');\n",
              "        buttonEl.style.display =\n",
              "          google.colab.kernel.accessAllowed ? 'block' : 'none';\n",
              "\n",
              "        async function convertToInteractive(key) {\n",
              "          const element = document.querySelector('#df-7b37642b-2f76-4f13-82d5-d6eb5fe9d6bf');\n",
              "          const dataTable =\n",
              "            await google.colab.kernel.invokeFunction('convertToInteractive',\n",
              "                                                     [key], {});\n",
              "          if (!dataTable) return;\n",
              "\n",
              "          const docLinkHtml = 'Like what you see? Visit the ' +\n",
              "            '<a target=\"_blank\" href=https://colab.research.google.com/notebooks/data_table.ipynb>data table notebook</a>'\n",
              "            + ' to learn more about interactive tables.';\n",
              "          element.innerHTML = '';\n",
              "          dataTable['output_type'] = 'display_data';\n",
              "          await google.colab.output.renderOutput(dataTable, element);\n",
              "          const docLink = document.createElement('div');\n",
              "          docLink.innerHTML = docLinkHtml;\n",
              "          element.appendChild(docLink);\n",
              "        }\n",
              "      </script>\n",
              "    </div>\n",
              "  </div>\n",
              "  "
            ]
          },
          "metadata": {},
          "execution_count": 3
        }
      ]
    },
    {
      "cell_type": "code",
      "source": [
        "Eng_df.info()"
      ],
      "metadata": {
        "colab": {
          "base_uri": "https://localhost:8080/"
        },
        "id": "ts8MzocCN0gs",
        "outputId": "6d8d82c2-b5b5-439b-89d3-4a64c4c5af9e"
      },
      "execution_count": 4,
      "outputs": [
        {
          "output_type": "stream",
          "name": "stdout",
          "text": [
            "<class 'pandas.core.frame.DataFrame'>\n",
            "RangeIndex: 175621 entries, 0 to 175620\n",
            "Data columns (total 1 columns):\n",
            " #   Column                   Non-Null Count   Dtype \n",
            "---  ------                   --------------   ----- \n",
            " 0   English words/sentences  175621 non-null  object\n",
            "dtypes: object(1)\n",
            "memory usage: 1.3+ MB\n"
          ]
        }
      ]
    },
    {
      "cell_type": "code",
      "source": [
        "!pip install deep-translator"
      ],
      "metadata": {
        "colab": {
          "base_uri": "https://localhost:8080/"
        },
        "id": "1_IyH_QgT-IC",
        "outputId": "e0c3b494-192b-4812-9a8a-f815d8646bc0"
      },
      "execution_count": 5,
      "outputs": [
        {
          "output_type": "stream",
          "name": "stdout",
          "text": [
            "Looking in indexes: https://pypi.org/simple, https://us-python.pkg.dev/colab-wheels/public/simple/\n",
            "Collecting deep-translator\n",
            "  Downloading deep_translator-1.9.1-py3-none-any.whl (30 kB)\n",
            "Requirement already satisfied: requests<3.0.0,>=2.23.0 in /usr/local/lib/python3.8/dist-packages (from deep-translator) (2.25.1)\n",
            "Collecting beautifulsoup4<5.0.0,>=4.9.1\n",
            "  Downloading beautifulsoup4-4.11.1-py3-none-any.whl (128 kB)\n",
            "\u001b[2K     \u001b[90m━━━━━━━━━━━━━━━━━━━━━━━━━━━━━━━━━━━━━━━\u001b[0m \u001b[32m128.2/128.2 KB\u001b[0m \u001b[31m5.2 MB/s\u001b[0m eta \u001b[36m0:00:00\u001b[0m\n",
            "\u001b[?25hCollecting soupsieve>1.2\n",
            "  Downloading soupsieve-2.3.2.post1-py3-none-any.whl (37 kB)\n",
            "Requirement already satisfied: certifi>=2017.4.17 in /usr/local/lib/python3.8/dist-packages (from requests<3.0.0,>=2.23.0->deep-translator) (2022.12.7)\n",
            "Requirement already satisfied: idna<3,>=2.5 in /usr/local/lib/python3.8/dist-packages (from requests<3.0.0,>=2.23.0->deep-translator) (2.10)\n",
            "Requirement already satisfied: chardet<5,>=3.0.2 in /usr/local/lib/python3.8/dist-packages (from requests<3.0.0,>=2.23.0->deep-translator) (4.0.0)\n",
            "Requirement already satisfied: urllib3<1.27,>=1.21.1 in /usr/local/lib/python3.8/dist-packages (from requests<3.0.0,>=2.23.0->deep-translator) (1.24.3)\n",
            "Installing collected packages: soupsieve, beautifulsoup4, deep-translator\n",
            "  Attempting uninstall: beautifulsoup4\n",
            "    Found existing installation: beautifulsoup4 4.6.3\n",
            "    Uninstalling beautifulsoup4-4.6.3:\n",
            "      Successfully uninstalled beautifulsoup4-4.6.3\n",
            "Successfully installed beautifulsoup4-4.11.1 deep-translator-1.9.1 soupsieve-2.3.2.post1\n"
          ]
        }
      ]
    },
    {
      "cell_type": "code",
      "source": [
        "from deep_translator import GoogleTranslator"
      ],
      "metadata": {
        "id": "HxQaO4HyT7Y8"
      },
      "execution_count": 6,
      "outputs": []
    },
    {
      "cell_type": "code",
      "source": [
        "Trans_Eng = pd.DataFrame(Eng_df[\"English words/sentences\"].unique()).rename(columns = {0:'English Words'})\n",
        "print(Trans_Eng)\n"
      ],
      "metadata": {
        "colab": {
          "base_uri": "https://localhost:8080/"
        },
        "id": "1ZbBSlDYdLI_",
        "outputId": "d296fdf6-8b42-466c-d38a-e8f984f779d5"
      },
      "execution_count": 7,
      "outputs": [
        {
          "output_type": "stream",
          "name": "stdout",
          "text": [
            "                                            English Words\n",
            "0                                                     Hi.\n",
            "1                                                    Run!\n",
            "2                                                    Who?\n",
            "3                                                    Wow!\n",
            "4                                                   Fire!\n",
            "...                                                   ...\n",
            "123095  Top-down economics never works, said Obama. \"T...\n",
            "123096  A carbon footprint is the amount of carbon dio...\n",
            "123097  Death is something that we're often discourage...\n",
            "123098  Since there are usually multiple websites on a...\n",
            "123099  If someone who doesn't know your background sa...\n",
            "\n",
            "[123100 rows x 1 columns]\n"
          ]
        }
      ]
    },
    {
      "cell_type": "code",
      "source": [
        "Trans_Eng[\"English Words\"] = Trans_Eng[\"English Words\"].str.replace(\"[^a-zA-Z0-9]\", \" \") \n",
        "Trans_Eng[\"English Words\"]\n",
        "     "
      ],
      "metadata": {
        "colab": {
          "base_uri": "https://localhost:8080/"
        },
        "id": "VKLpaZT0YagR",
        "outputId": "03f637e9-9d10-47b8-9cb0-d7b047ca0e34"
      },
      "execution_count": 8,
      "outputs": [
        {
          "output_type": "stream",
          "name": "stderr",
          "text": [
            "<ipython-input-8-1bfa42bc6432>:1: FutureWarning: The default value of regex will change from True to False in a future version.\n",
            "  Trans_Eng[\"English Words\"] = Trans_Eng[\"English Words\"].str.replace(\"[^a-zA-Z0-9]\", \" \")\n"
          ]
        },
        {
          "output_type": "execute_result",
          "data": {
            "text/plain": [
              "0                                                       Hi \n",
              "1                                                      Run \n",
              "2                                                      Who \n",
              "3                                                      Wow \n",
              "4                                                     Fire \n",
              "                                ...                        \n",
              "123095    Top down economics never works  said Obama   T...\n",
              "123096    A carbon footprint is the amount of carbon dio...\n",
              "123097    Death is something that we re often discourage...\n",
              "123098    Since there are usually multiple websites on a...\n",
              "123099    If someone who doesn t know your background sa...\n",
              "Name: English Words, Length: 123100, dtype: object"
            ]
          },
          "metadata": {},
          "execution_count": 8
        }
      ]
    },
    {
      "cell_type": "code",
      "source": [
        "Trans_Eng['English Words'].head(100)"
      ],
      "metadata": {
        "colab": {
          "base_uri": "https://localhost:8080/"
        },
        "id": "Oa1j2arQesOS",
        "outputId": "fb4008b3-c6a6-4228-cbd3-d90316d2fbc7"
      },
      "execution_count": 9,
      "outputs": [
        {
          "output_type": "execute_result",
          "data": {
            "text/plain": [
              "0          Hi \n",
              "1         Run \n",
              "2         Who \n",
              "3         Wow \n",
              "4        Fire \n",
              "        ...   \n",
              "95    Open up \n",
              "96    Perfect \n",
              "97    See you \n",
              "98    See you \n",
              "99    Show me \n",
              "Name: English Words, Length: 100, dtype: object"
            ]
          },
          "metadata": {},
          "execution_count": 9
        }
      ]
    },
    {
      "cell_type": "markdown",
      "source": [
        "Task 1"
      ],
      "metadata": {
        "id": "IcHNq74gncVI"
      }
    },
    {
      "cell_type": "markdown",
      "source": [
        "Translate English into French"
      ],
      "metadata": {
        "id": "LPzWuN1dhZUb"
      }
    },
    {
      "cell_type": "code",
      "source": [
        "def Translate(rev):\n",
        "    translation= GoogleTranslator(source='english', target='fr').translate(rev)\n",
        "    return translation"
      ],
      "metadata": {
        "id": "vJnFmeHPPtq3"
      },
      "execution_count": 10,
      "outputs": []
    },
    {
      "cell_type": "code",
      "source": [
        "Trans_French_Words = [Translate(r) for r in Trans_Eng['English Words'].head(100)]\n",
        "Trans_French_Words"
      ],
      "metadata": {
        "colab": {
          "base_uri": "https://localhost:8080/"
        },
        "id": "je0TxujJUrj_",
        "outputId": "254f5474-b2f2-4ff9-ad19-229bd41f5ebf"
      },
      "execution_count": 11,
      "outputs": [
        {
          "output_type": "execute_result",
          "data": {
            "text/plain": [
              "['Salut',\n",
              " 'Cours',\n",
              " 'Qui',\n",
              " 'Ouah',\n",
              " 'Feu',\n",
              " 'Aider',\n",
              " 'Sauter',\n",
              " 'Arrêter',\n",
              " 'Attendez',\n",
              " 'Continue',\n",
              " 'Bonjour',\n",
              " 'je vois',\n",
              " \"J'essaye\",\n",
              " \"J'ai gagné\",\n",
              " \"J'ai gagné\",\n",
              " 'Oh non',\n",
              " 'Attaque',\n",
              " 'À votre santé',\n",
              " 'Se lever',\n",
              " 'Allez maintenant',\n",
              " \"J'ai compris\",\n",
              " \"J'ai compris\",\n",
              " 'Monter dedans',\n",
              " 'HUG Me',\n",
              " 'je suis tombé',\n",
              " 'je sais',\n",
              " 'Je suis parti',\n",
              " \"j'ai menti\",\n",
              " \"J'ai perdu\",\n",
              " \"j'ai payé\",\n",
              " \"J'ai 19 ans\",\n",
              " 'Je vais bien',\n",
              " 'Ecoutez',\n",
              " 'Pas du tout',\n",
              " 'Vraiment',\n",
              " 'Merci',\n",
              " 'Nous essayons',\n",
              " 'Nous avons gagné',\n",
              " 'Demander à Tom',\n",
              " 'Impressionnant',\n",
              " 'Sois calme',\n",
              " 'Soit cool',\n",
              " 'Être juste',\n",
              " 'Etre gentil',\n",
              " 'Sois gentil',\n",
              " 'Batte-le',\n",
              " 'Appelle-moi',\n",
              " 'Appelez-nous',\n",
              " 'Entrez',\n",
              " 'Allez',\n",
              " 'Allez',\n",
              " 'Laisse tomber',\n",
              " 'Obtenez Tom',\n",
              " 'Sortir',\n",
              " 'Sortir',\n",
              " 'Va-t’en',\n",
              " 'Va-t’en',\n",
              " 'rentrer chez soi',\n",
              " 'Va lentement',\n",
              " 'Au revoir',\n",
              " 'Attendez',\n",
              " 'Attendez',\n",
              " 'Il quitte',\n",
              " 'Il court',\n",
              " 'Aide-moi',\n",
              " 'Aide-moi',\n",
              " 'Aidez nous',\n",
              " 'Le tenir',\n",
              " 'Tenir',\n",
              " 'Câlin à Tom',\n",
              " \"Je suis d'accord\",\n",
              " \"j'ai pleuré\",\n",
              " 'je me suis assoupi',\n",
              " 'je conduis',\n",
              " 'je fume',\n",
              " 'je ronfle',\n",
              " 'je pue',\n",
              " 'je me tenais',\n",
              " \"j'ai juré\",\n",
              " \"j'ai essayé\",\n",
              " \"j'ai agité\",\n",
              " \"J'y vais\",\n",
              " 'Je suis Tom',\n",
              " 'Je suis gros',\n",
              " 'Je suis mince',\n",
              " 'Je suis touché',\n",
              " 'Je suis malade',\n",
              " 'Je suis triste',\n",
              " 'Je suis timide',\n",
              " 'Je suis trempé',\n",
              " \"C'est moi\",\n",
              " 'Rejoignez-nous',\n",
              " 'Garde le',\n",
              " 'Embrasse-moi',\n",
              " 'Moi aussi',\n",
              " \"S'ouvrir\",\n",
              " 'Parfait',\n",
              " 'À plus tard',\n",
              " 'À plus tard',\n",
              " 'Montrez-moi']"
            ]
          },
          "metadata": {},
          "execution_count": 11
        }
      ]
    },
    {
      "cell_type": "markdown",
      "source": [
        "Translate English into German "
      ],
      "metadata": {
        "id": "etsFpWpNhMMp"
      }
    },
    {
      "cell_type": "code",
      "source": [
        "def Translate_de(rev):\n",
        "    translation= GoogleTranslator(source='english', target='de').translate(rev)\n",
        "    return translation"
      ],
      "metadata": {
        "id": "M6sU2JXefvtG"
      },
      "execution_count": 13,
      "outputs": []
    },
    {
      "cell_type": "code",
      "source": [
        "Trans_German_Words = [Translate_de(r) for r in Trans_Eng['English Words'].head(100)]\n",
        "Trans_German_Words"
      ],
      "metadata": {
        "colab": {
          "base_uri": "https://localhost:8080/"
        },
        "id": "JCdQN_2xgtpS",
        "outputId": "f2b91db5-93d5-421c-b818-5cc34f989b52"
      },
      "execution_count": 14,
      "outputs": [
        {
          "output_type": "execute_result",
          "data": {
            "text/plain": [
              "['Hi',\n",
              " 'Laufen',\n",
              " 'Wer',\n",
              " 'Wow',\n",
              " 'Feuer',\n",
              " 'Hilfe',\n",
              " 'Springen',\n",
              " 'Halt',\n",
              " 'Warte ab',\n",
              " 'Mach weiter',\n",
              " 'Hallo',\n",
              " 'Ich verstehe',\n",
              " 'ich versuche',\n",
              " 'ich habe gewonnen',\n",
              " 'ich habe gewonnen',\n",
              " 'Ach nein',\n",
              " 'Attacke',\n",
              " 'Prost',\n",
              " 'Aufstehen',\n",
              " 'Geh jetzt',\n",
              " 'Habe es',\n",
              " 'Habe es',\n",
              " 'Steigen Sie ein',\n",
              " 'Umarme mich',\n",
              " 'Ich fiel',\n",
              " 'Ich kenne',\n",
              " 'Ich ging weg',\n",
              " 'ich habe gelogen',\n",
              " 'Ich habe verloren',\n",
              " 'ich habe bezahlt',\n",
              " 'Ich bin 19',\n",
              " 'Ich bin OK',\n",
              " 'Hören',\n",
              " 'Auf keinen Fall',\n",
              " 'Wirklich',\n",
              " 'Danke',\n",
              " 'Wir versuchen',\n",
              " 'Wir haben gewonnen',\n",
              " 'Frag Tom',\n",
              " 'Genial',\n",
              " 'Ruhig sein',\n",
              " 'Sei cool',\n",
              " 'Sei fair',\n",
              " 'Sei freundlich',\n",
              " 'Sei nett',\n",
              " 'Mach dich vom Acker',\n",
              " 'Rufen Sie mich an',\n",
              " 'Rufen Sie uns an',\n",
              " 'Komm herein',\n",
              " 'Komm schon',\n",
              " 'Komm schon',\n",
              " 'Lass es fallen',\n",
              " 'Hol Tom',\n",
              " 'Aussteigen',\n",
              " 'Aussteigen',\n",
              " 'Geh weg',\n",
              " 'Geh weg',\n",
              " 'Nach Hause gehen',\n",
              " 'Mach langsam',\n",
              " 'Auf Wiedersehen',\n",
              " 'Abwarten',\n",
              " 'Abwarten',\n",
              " 'Er hat gekündigt',\n",
              " 'Er rennt',\n",
              " 'Hilf mir',\n",
              " 'Hilf mir',\n",
              " 'Hilf uns',\n",
              " 'Halte es',\n",
              " 'Festhalten',\n",
              " 'Umarmung Tom',\n",
              " 'Ich stimme zu',\n",
              " 'Ich heulte',\n",
              " 'Ich döste',\n",
              " 'ich fahre',\n",
              " 'ich rauche',\n",
              " 'ich schnarche',\n",
              " 'ich stinke',\n",
              " 'ich stand',\n",
              " 'Ich schwor',\n",
              " 'Ich habe es versucht',\n",
              " 'ich winkte',\n",
              " 'Ich werde gehen',\n",
              " 'Ich bin Tom',\n",
              " 'Ich bin fett',\n",
              " 'Ich bin Fit',\n",
              " 'Ich bin getroffen',\n",
              " 'Ich bin krank',\n",
              " 'Ich bin traurig',\n",
              " 'Ich bin schüchtern',\n",
              " 'Ich bin nass',\n",
              " 'Da ich bin',\n",
              " 'Begleiten Sie uns',\n",
              " 'Behalte es',\n",
              " 'Küss mich',\n",
              " 'Ich auch',\n",
              " 'Aufmachen',\n",
              " 'Perfekt',\n",
              " \"Mach's gut\",\n",
              " \"Mach's gut\",\n",
              " 'Zeig es mir']"
            ]
          },
          "metadata": {},
          "execution_count": 14
        }
      ]
    },
    {
      "cell_type": "markdown",
      "source": [
        "Translate English into Spanish"
      ],
      "metadata": {
        "id": "weazkfN3jTM7"
      }
    },
    {
      "cell_type": "code",
      "source": [
        "def Translate_es(rev):\n",
        "  Transaltion=GoogleTranslator(source='english',target='es').translate(rev)\n",
        "  return Transaltion  "
      ],
      "metadata": {
        "id": "QReWFsaNitLy"
      },
      "execution_count": 15,
      "outputs": []
    },
    {
      "cell_type": "code",
      "source": [
        "Trans_Spanish_Words = [Translate_es(r) for r in Trans_Eng[\"English Words\"].head(100)]\n",
        "Trans_Spanish_Words"
      ],
      "metadata": {
        "colab": {
          "base_uri": "https://localhost:8080/"
        },
        "id": "6K8g8RhHkHtW",
        "outputId": "ca35ffb3-d395-4fd5-bdbe-5aa50b71343d"
      },
      "execution_count": 16,
      "outputs": [
        {
          "output_type": "execute_result",
          "data": {
            "text/plain": [
              "['Hola',\n",
              " 'Correr',\n",
              " 'Quién',\n",
              " 'Guau',\n",
              " 'Fuego',\n",
              " 'Ayudar',\n",
              " 'Salto',\n",
              " 'Deténgase',\n",
              " 'Esperar',\n",
              " 'Seguir',\n",
              " 'Hola',\n",
              " 'ya veo',\n",
              " 'lo intento',\n",
              " 'gané',\n",
              " 'gané',\n",
              " 'Oh, no',\n",
              " 'Ataque',\n",
              " 'Salud',\n",
              " 'Levantarse',\n",
              " 'Ve ahora',\n",
              " 'Entendido',\n",
              " 'Entendido',\n",
              " 'súbete',\n",
              " 'Abrázame',\n",
              " 'Me caí',\n",
              " 'lo sé',\n",
              " 'me fui',\n",
              " 'mentí',\n",
              " 'perdí',\n",
              " 'yo pagué',\n",
              " 'Tengo 19',\n",
              " 'Estoy bien',\n",
              " 'Escucha',\n",
              " 'De ninguna manera',\n",
              " 'Realmente',\n",
              " 'Gracias',\n",
              " 'Intentamos',\n",
              " 'Ganamos',\n",
              " 'preguntale a tom',\n",
              " 'Impresionante',\n",
              " 'Estate calmado',\n",
              " 'Relájate',\n",
              " 'Sé justo',\n",
              " 'Sé amable',\n",
              " 'Se bueno',\n",
              " 'Batirlo',\n",
              " 'Llámame',\n",
              " 'Llámanos',\n",
              " 'Adelante',\n",
              " 'Vamos',\n",
              " 'Vamos',\n",
              " 'Déjalo caer',\n",
              " 'conseguir tom',\n",
              " 'Salir',\n",
              " 'Salir',\n",
              " 'Vete',\n",
              " 'Vete',\n",
              " 'Vete a casa',\n",
              " 'Ve lento',\n",
              " 'Adiós',\n",
              " 'Aférrate',\n",
              " 'Aférrate',\n",
              " 'El lo dejó',\n",
              " 'El corre',\n",
              " 'Ayúdame',\n",
              " 'Ayúdame',\n",
              " 'Ayúdanos',\n",
              " 'aguantalo',\n",
              " 'Esperar',\n",
              " 'abrazo tom',\n",
              " 'Estoy de acuerdo',\n",
              " 'lloré',\n",
              " 'yo dormitaba',\n",
              " 'conduzco',\n",
              " 'yo fumo',\n",
              " 'yo ronco',\n",
              " 'Apesto',\n",
              " 'Me paré',\n",
              " 'lo jure',\n",
              " 'Lo intenté',\n",
              " 'Saludé',\n",
              " 'Iré',\n",
              " 'Soy Tom',\n",
              " 'Estoy gordo',\n",
              " 'Estoy en forma',\n",
              " 'Estoy golpeado',\n",
              " 'Estoy enfermo',\n",
              " 'Estoy triste',\n",
              " 'Soy tímido',\n",
              " 'Estoy mojado',\n",
              " 'Soy yo',\n",
              " 'Únete a nosotros',\n",
              " 'Quédatelo',\n",
              " 'Besame',\n",
              " 'Yo también',\n",
              " 'Abrir',\n",
              " 'Perfecto',\n",
              " 'Nos vemos',\n",
              " 'Nos vemos',\n",
              " 'Muéstrame']"
            ]
          },
          "metadata": {},
          "execution_count": 16
        }
      ]
    },
    {
      "cell_type": "markdown",
      "source": [
        "Task 2"
      ],
      "metadata": {
        "id": "PSbxza8wnTG9"
      }
    },
    {
      "cell_type": "code",
      "source": [
        "!pip install pyspellchecker"
      ],
      "metadata": {
        "colab": {
          "base_uri": "https://localhost:8080/"
        },
        "id": "w6Jv8S97jDHq",
        "outputId": "0c50ff63-10f8-494f-a481-759b60de40bf"
      },
      "execution_count": 17,
      "outputs": [
        {
          "output_type": "stream",
          "name": "stdout",
          "text": [
            "Looking in indexes: https://pypi.org/simple, https://us-python.pkg.dev/colab-wheels/public/simple/\n",
            "Collecting pyspellchecker\n",
            "  Downloading pyspellchecker-0.7.1-py3-none-any.whl (2.5 MB)\n",
            "\u001b[2K     \u001b[90m━━━━━━━━━━━━━━━━━━━━━━━━━━━━━━━━━━━━━━━━\u001b[0m \u001b[32m2.5/2.5 MB\u001b[0m \u001b[31m29.9 MB/s\u001b[0m eta \u001b[36m0:00:00\u001b[0m\n",
            "\u001b[?25hInstalling collected packages: pyspellchecker\n",
            "Successfully installed pyspellchecker-0.7.1\n"
          ]
        }
      ]
    },
    {
      "cell_type": "code",
      "source": [
        "from spellchecker import SpellChecker"
      ],
      "metadata": {
        "id": "3H1FZB6jnPK_"
      },
      "execution_count": 18,
      "outputs": []
    },
    {
      "cell_type": "code",
      "source": [
        "specheck=SpellChecker()\n",
        "specheck"
      ],
      "metadata": {
        "colab": {
          "base_uri": "https://localhost:8080/"
        },
        "id": "p3DI8-DTnlQX",
        "outputId": "8c6973ac-b805-41df-9c0f-a5408f773cad"
      },
      "execution_count": 19,
      "outputs": [
        {
          "output_type": "execute_result",
          "data": {
            "text/plain": [
              "<spellchecker.spellchecker.SpellChecker at 0x7f7283bddec0>"
            ]
          },
          "metadata": {},
          "execution_count": 19
        }
      ]
    },
    {
      "cell_type": "code",
      "source": [
        "misspelled_words = specheck.unknown([\"cmputr\", \"watr\", \"wriet\", \"athist\", \"acceptible\", \"benifit\", \"acommodate\", \"amatuer\", \"acknowlege\", \"becomeing\", \n",
        "                            \"camoflague\", \"catagory\", \"cauhgt\", \"cematery\", \"apparrent\", \"congradulate\", \"conceed\", \"definit\", \"disasterous\", \"dilema\",\n",
        "                            \"equiptment \", \"excede\", \"experiance\", \"innoculate\", \"extreem\", \"guage\", \"gratful\", \"guidence\", \"heirarchy\", \"dumbell\",\n",
        "                          ])\n",
        "\n",
        "for word in misspelled_words:\n",
        "    print(specheck.correction(word))"
      ],
      "metadata": {
        "id": "UbuFWjIwoESr",
        "colab": {
          "base_uri": "https://localhost:8080/"
        },
        "outputId": "c8e946e3-d01b-45f2-d9af-d3cc17eaf9a9"
      },
      "execution_count": 20,
      "outputs": [
        {
          "output_type": "stream",
          "name": "stdout",
          "text": [
            "apparent\n",
            "hierarchy\n",
            "disastrous\n",
            "computer\n",
            "camouflage\n",
            "guidance\n",
            "equipment\n",
            "dumbbell\n",
            "experience\n",
            "definite\n",
            "grateful\n",
            "accommodate\n",
            "dilemma\n",
            "becoming\n",
            "cemetery\n",
            "inoculate\n",
            "caught\n",
            "write\n",
            "concede\n",
            "gauge\n",
            "acknowledge\n",
            "extreme\n",
            "atheist\n",
            "category\n",
            "exceed\n",
            "amateur\n",
            "benefit\n",
            "acceptable\n",
            "congratulate\n",
            "water\n"
          ]
        }
      ]
    }
  ]
}