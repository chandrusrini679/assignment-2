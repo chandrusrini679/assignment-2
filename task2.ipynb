{
  "nbformat": 4,
  "nbformat_minor": 0,
  "metadata": {
    "colab": {
      "provenance": [],
      "authorship_tag": "ABX9TyNuBP9SoDwRfH0BSnPlCWwS",
      "include_colab_link": true
    },
    "kernelspec": {
      "name": "python3",
      "display_name": "Python 3"
    },
    "language_info": {
      "name": "python"
    }
  },
  "cells": [
    {
      "cell_type": "markdown",
      "metadata": {
        "id": "view-in-github",
        "colab_type": "text"
      },
      "source": [
        "<a href=\"https://colab.research.google.com/github/chandrusrini679/task-1/blob/main/task2.ipynb\" target=\"_parent\"><img src=\"https://colab.research.google.com/assets/colab-badge.svg\" alt=\"Open In Colab\"/></a>"
      ]
    },
    {
      "cell_type": "code",
      "source": [
        "import itertools as it\n",
        "n=(0,1,2,3,4,5,6,7,8,9)\n",
        "pwd=(5,7,3,8)\n",
        "count=[]\n",
        "b=it.permutations(n,4)\n",
        "for i in b:\n",
        "    count.append(i)\n",
        "    if i==pwd:\n",
        "      break \n",
        "    else:\n",
        "      continue\n",
        "print(len(count))"
      ],
      "metadata": {
        "colab": {
          "base_uri": "https://localhost:8080/"
        },
        "id": "Q7RFe95UX94Y",
        "outputId": "7056b737-68d0-4122-ab91-6bfad15005af"
      },
      "execution_count": null,
      "outputs": [
        {
          "output_type": "stream",
          "name": "stdout",
          "text": [
            "2883\n"
          ]
        }
      ]
    }
  ]
}